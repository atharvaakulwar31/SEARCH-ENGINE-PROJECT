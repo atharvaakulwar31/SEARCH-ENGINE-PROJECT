{
 "cells": [
  {
   "cell_type": "code",
   "execution_count": 49,
   "id": "bcfc4a04",
   "metadata": {},
   "outputs": [
    {
     "data": {
      "text/html": [
       "<div>\n",
       "<style scoped>\n",
       "    .dataframe tbody tr th:only-of-type {\n",
       "        vertical-align: middle;\n",
       "    }\n",
       "\n",
       "    .dataframe tbody tr th {\n",
       "        vertical-align: top;\n",
       "    }\n",
       "\n",
       "    .dataframe thead th {\n",
       "        text-align: right;\n",
       "    }\n",
       "</style>\n",
       "<table border=\"1\" class=\"dataframe\">\n",
       "  <thead>\n",
       "    <tr style=\"text-align: right;\">\n",
       "      <th></th>\n",
       "      <th>Product_name</th>\n",
       "      <th>Prices</th>\n",
       "      <th>Description</th>\n",
       "      <th>Reviews</th>\n",
       "    </tr>\n",
       "  </thead>\n",
       "  <tbody>\n",
       "    <tr>\n",
       "      <th>0</th>\n",
       "      <td>DELL 15 AMD Ryzen 5 Hexa Core 7530U - (16 GB/5...</td>\n",
       "      <td>₹41,990</td>\n",
       "      <td>AMD Ryzen 5 Hexa Core Processor16 GB DDR4 RAMW...</td>\n",
       "      <td>4.2</td>\n",
       "    </tr>\n",
       "    <tr>\n",
       "      <th>1</th>\n",
       "      <td>HP 15 (2024) AMD Ryzen 3 Quad Core 7320U - (8 ...</td>\n",
       "      <td>₹29,990</td>\n",
       "      <td>AMD Ryzen 3 Quad Core Processor8 GB DDR4 RAMWi...</td>\n",
       "      <td>4.2</td>\n",
       "    </tr>\n",
       "    <tr>\n",
       "      <th>2</th>\n",
       "      <td>ASUS Vivobook 15 Intel Core i3 13th Gen 1315U ...</td>\n",
       "      <td>₹35,990</td>\n",
       "      <td>Intel Core i3 Processor (13th Gen)8 GB DDR4 RA...</td>\n",
       "      <td>4.5</td>\n",
       "    </tr>\n",
       "    <tr>\n",
       "      <th>3</th>\n",
       "      <td>SAMSUNG Galaxy Book4 Metal Intel Core i5 13th ...</td>\n",
       "      <td>₹51,990</td>\n",
       "      <td>Intel Core i5 Processor (13th Gen)16 GB LPDDR4...</td>\n",
       "      <td>4.2</td>\n",
       "    </tr>\n",
       "    <tr>\n",
       "      <th>4</th>\n",
       "      <td>ASUS Vivobook 15 Intel Core i5 12th Gen 1235U ...</td>\n",
       "      <td>₹40,990</td>\n",
       "      <td>Intel Core i5 Processor (12th Gen)8 GB DDR4 RA...</td>\n",
       "      <td>4.2</td>\n",
       "    </tr>\n",
       "  </tbody>\n",
       "</table>\n",
       "</div>"
      ],
      "text/plain": [
       "                                        Product_name   Prices  \\\n",
       "0  DELL 15 AMD Ryzen 5 Hexa Core 7530U - (16 GB/5...  ₹41,990   \n",
       "1  HP 15 (2024) AMD Ryzen 3 Quad Core 7320U - (8 ...  ₹29,990   \n",
       "2  ASUS Vivobook 15 Intel Core i3 13th Gen 1315U ...  ₹35,990   \n",
       "3  SAMSUNG Galaxy Book4 Metal Intel Core i5 13th ...  ₹51,990   \n",
       "4  ASUS Vivobook 15 Intel Core i5 12th Gen 1235U ...  ₹40,990   \n",
       "\n",
       "                                         Description  Reviews  \n",
       "0  AMD Ryzen 5 Hexa Core Processor16 GB DDR4 RAMW...      4.2  \n",
       "1  AMD Ryzen 3 Quad Core Processor8 GB DDR4 RAMWi...      4.2  \n",
       "2  Intel Core i3 Processor (13th Gen)8 GB DDR4 RA...      4.5  \n",
       "3  Intel Core i5 Processor (13th Gen)16 GB LPDDR4...      4.2  \n",
       "4  Intel Core i5 Processor (12th Gen)8 GB DDR4 RA...      4.2  "
      ]
     },
     "execution_count": 49,
     "metadata": {},
     "output_type": "execute_result"
    }
   ],
   "source": [
    "import pandas as pd\n",
    "\n",
    "df = pd.read_csv('flipkart_laptop.csv')\n",
    "\n",
    "df.head()\n"
   ]
  },
  {
   "cell_type": "code",
   "execution_count": 50,
   "id": "b3c08d15",
   "metadata": {},
   "outputs": [
    {
     "data": {
      "text/plain": [
       "Product_name      0\n",
       "Prices            0\n",
       "Description       0\n",
       "Reviews         123\n",
       "dtype: int64"
      ]
     },
     "execution_count": 50,
     "metadata": {},
     "output_type": "execute_result"
    }
   ],
   "source": [
    "#missing value\n",
    "df.isnull().sum()"
   ]
  },
  {
   "cell_type": "code",
   "execution_count": 51,
   "id": "49b9b915",
   "metadata": {},
   "outputs": [],
   "source": [
    "#handling missing values\n",
    "df['Reviews'] = df['Reviews'].fillna('N/A')  "
   ]
  },
  {
   "cell_type": "code",
   "execution_count": 52,
   "id": "ce80198f",
   "metadata": {},
   "outputs": [
    {
     "data": {
      "text/plain": [
       "Product_name    0\n",
       "Prices          0\n",
       "Description     0\n",
       "Reviews         0\n",
       "dtype: int64"
      ]
     },
     "execution_count": 52,
     "metadata": {},
     "output_type": "execute_result"
    }
   ],
   "source": [
    "df.isnull().sum()"
   ]
  },
  {
   "cell_type": "code",
   "execution_count": 53,
   "id": "6444c541",
   "metadata": {},
   "outputs": [
    {
     "data": {
      "text/plain": [
       "(984, 4)"
      ]
     },
     "execution_count": 53,
     "metadata": {},
     "output_type": "execute_result"
    }
   ],
   "source": [
    "df.shape"
   ]
  },
  {
   "cell_type": "code",
   "execution_count": 54,
   "id": "a591c501",
   "metadata": {},
   "outputs": [],
   "source": [
    "# Step 4: Remove duplicate rows\n",
    "df = df.drop_duplicates()"
   ]
  },
  {
   "cell_type": "code",
   "execution_count": 55,
   "id": "7d28acf7",
   "metadata": {},
   "outputs": [
    {
     "data": {
      "text/plain": [
       "(705, 4)"
      ]
     },
     "execution_count": 55,
     "metadata": {},
     "output_type": "execute_result"
    }
   ],
   "source": [
    "df.shape"
   ]
  },
  {
   "cell_type": "code",
   "execution_count": 56,
   "id": "62dee77c",
   "metadata": {},
   "outputs": [],
   "source": [
    "# Step 5: Check and convert data types \n",
    "\n",
    "df['Prices'] = df['Prices'].replace({'₹': '', ',': ''}, regex=True).astype(float)"
   ]
  },
  {
   "cell_type": "code",
   "execution_count": 57,
   "id": "f535a425",
   "metadata": {},
   "outputs": [
    {
     "data": {
      "text/html": [
       "<div>\n",
       "<style scoped>\n",
       "    .dataframe tbody tr th:only-of-type {\n",
       "        vertical-align: middle;\n",
       "    }\n",
       "\n",
       "    .dataframe tbody tr th {\n",
       "        vertical-align: top;\n",
       "    }\n",
       "\n",
       "    .dataframe thead th {\n",
       "        text-align: right;\n",
       "    }\n",
       "</style>\n",
       "<table border=\"1\" class=\"dataframe\">\n",
       "  <thead>\n",
       "    <tr style=\"text-align: right;\">\n",
       "      <th></th>\n",
       "      <th>Product_name</th>\n",
       "      <th>Prices</th>\n",
       "      <th>Description</th>\n",
       "      <th>Reviews</th>\n",
       "    </tr>\n",
       "  </thead>\n",
       "  <tbody>\n",
       "    <tr>\n",
       "      <th>0</th>\n",
       "      <td>DELL 15 AMD Ryzen 5 Hexa Core 7530U - (16 GB/5...</td>\n",
       "      <td>41990.0</td>\n",
       "      <td>AMD Ryzen 5 Hexa Core Processor16 GB DDR4 RAMW...</td>\n",
       "      <td>4.2</td>\n",
       "    </tr>\n",
       "    <tr>\n",
       "      <th>1</th>\n",
       "      <td>HP 15 (2024) AMD Ryzen 3 Quad Core 7320U - (8 ...</td>\n",
       "      <td>29990.0</td>\n",
       "      <td>AMD Ryzen 3 Quad Core Processor8 GB DDR4 RAMWi...</td>\n",
       "      <td>4.2</td>\n",
       "    </tr>\n",
       "    <tr>\n",
       "      <th>2</th>\n",
       "      <td>ASUS Vivobook 15 Intel Core i3 13th Gen 1315U ...</td>\n",
       "      <td>35990.0</td>\n",
       "      <td>Intel Core i3 Processor (13th Gen)8 GB DDR4 RA...</td>\n",
       "      <td>4.5</td>\n",
       "    </tr>\n",
       "    <tr>\n",
       "      <th>3</th>\n",
       "      <td>SAMSUNG Galaxy Book4 Metal Intel Core i5 13th ...</td>\n",
       "      <td>51990.0</td>\n",
       "      <td>Intel Core i5 Processor (13th Gen)16 GB LPDDR4...</td>\n",
       "      <td>4.2</td>\n",
       "    </tr>\n",
       "    <tr>\n",
       "      <th>4</th>\n",
       "      <td>ASUS Vivobook 15 Intel Core i5 12th Gen 1235U ...</td>\n",
       "      <td>40990.0</td>\n",
       "      <td>Intel Core i5 Processor (12th Gen)8 GB DDR4 RA...</td>\n",
       "      <td>4.2</td>\n",
       "    </tr>\n",
       "  </tbody>\n",
       "</table>\n",
       "</div>"
      ],
      "text/plain": [
       "                                        Product_name   Prices  \\\n",
       "0  DELL 15 AMD Ryzen 5 Hexa Core 7530U - (16 GB/5...  41990.0   \n",
       "1  HP 15 (2024) AMD Ryzen 3 Quad Core 7320U - (8 ...  29990.0   \n",
       "2  ASUS Vivobook 15 Intel Core i3 13th Gen 1315U ...  35990.0   \n",
       "3  SAMSUNG Galaxy Book4 Metal Intel Core i5 13th ...  51990.0   \n",
       "4  ASUS Vivobook 15 Intel Core i5 12th Gen 1235U ...  40990.0   \n",
       "\n",
       "                                         Description Reviews  \n",
       "0  AMD Ryzen 5 Hexa Core Processor16 GB DDR4 RAMW...     4.2  \n",
       "1  AMD Ryzen 3 Quad Core Processor8 GB DDR4 RAMWi...     4.2  \n",
       "2  Intel Core i3 Processor (13th Gen)8 GB DDR4 RA...     4.5  \n",
       "3  Intel Core i5 Processor (13th Gen)16 GB LPDDR4...     4.2  \n",
       "4  Intel Core i5 Processor (12th Gen)8 GB DDR4 RA...     4.2  "
      ]
     },
     "execution_count": 57,
     "metadata": {},
     "output_type": "execute_result"
    }
   ],
   "source": [
    "df.head()"
   ]
  },
  {
   "cell_type": "code",
   "execution_count": 58,
   "id": "8bac8176",
   "metadata": {},
   "outputs": [],
   "source": [
    "# Step 6: Clean any inconsistent formatting (e.g., remove extra spaces)\n",
    "df['Product_name'] = df['Product_name'].str.strip()"
   ]
  },
  {
   "cell_type": "code",
   "execution_count": 59,
   "id": "14032478",
   "metadata": {},
   "outputs": [
    {
     "name": "stdout",
     "output_type": "stream",
     "text": [
      "\n",
      "Cleaned Data:\n"
     ]
    },
    {
     "data": {
      "text/html": [
       "<div>\n",
       "<style scoped>\n",
       "    .dataframe tbody tr th:only-of-type {\n",
       "        vertical-align: middle;\n",
       "    }\n",
       "\n",
       "    .dataframe tbody tr th {\n",
       "        vertical-align: top;\n",
       "    }\n",
       "\n",
       "    .dataframe thead th {\n",
       "        text-align: right;\n",
       "    }\n",
       "</style>\n",
       "<table border=\"1\" class=\"dataframe\">\n",
       "  <thead>\n",
       "    <tr style=\"text-align: right;\">\n",
       "      <th></th>\n",
       "      <th>Product_name</th>\n",
       "      <th>Prices</th>\n",
       "      <th>Description</th>\n",
       "      <th>Reviews</th>\n",
       "    </tr>\n",
       "  </thead>\n",
       "  <tbody>\n",
       "    <tr>\n",
       "      <th>0</th>\n",
       "      <td>DELL 15 AMD Ryzen 5 Hexa Core 7530U - (16 GB/5...</td>\n",
       "      <td>41990.0</td>\n",
       "      <td>AMD Ryzen 5 Hexa Core Processor16 GB DDR4 RAMW...</td>\n",
       "      <td>4.2</td>\n",
       "    </tr>\n",
       "    <tr>\n",
       "      <th>1</th>\n",
       "      <td>HP 15 (2024) AMD Ryzen 3 Quad Core 7320U - (8 ...</td>\n",
       "      <td>29990.0</td>\n",
       "      <td>AMD Ryzen 3 Quad Core Processor8 GB DDR4 RAMWi...</td>\n",
       "      <td>4.2</td>\n",
       "    </tr>\n",
       "    <tr>\n",
       "      <th>2</th>\n",
       "      <td>ASUS Vivobook 15 Intel Core i3 13th Gen 1315U ...</td>\n",
       "      <td>35990.0</td>\n",
       "      <td>Intel Core i3 Processor (13th Gen)8 GB DDR4 RA...</td>\n",
       "      <td>4.5</td>\n",
       "    </tr>\n",
       "    <tr>\n",
       "      <th>3</th>\n",
       "      <td>SAMSUNG Galaxy Book4 Metal Intel Core i5 13th ...</td>\n",
       "      <td>51990.0</td>\n",
       "      <td>Intel Core i5 Processor (13th Gen)16 GB LPDDR4...</td>\n",
       "      <td>4.2</td>\n",
       "    </tr>\n",
       "    <tr>\n",
       "      <th>4</th>\n",
       "      <td>ASUS Vivobook 15 Intel Core i5 12th Gen 1235U ...</td>\n",
       "      <td>40990.0</td>\n",
       "      <td>Intel Core i5 Processor (12th Gen)8 GB DDR4 RA...</td>\n",
       "      <td>4.2</td>\n",
       "    </tr>\n",
       "  </tbody>\n",
       "</table>\n",
       "</div>"
      ],
      "text/plain": [
       "                                        Product_name   Prices  \\\n",
       "0  DELL 15 AMD Ryzen 5 Hexa Core 7530U - (16 GB/5...  41990.0   \n",
       "1  HP 15 (2024) AMD Ryzen 3 Quad Core 7320U - (8 ...  29990.0   \n",
       "2  ASUS Vivobook 15 Intel Core i3 13th Gen 1315U ...  35990.0   \n",
       "3  SAMSUNG Galaxy Book4 Metal Intel Core i5 13th ...  51990.0   \n",
       "4  ASUS Vivobook 15 Intel Core i5 12th Gen 1235U ...  40990.0   \n",
       "\n",
       "                                         Description Reviews  \n",
       "0  AMD Ryzen 5 Hexa Core Processor16 GB DDR4 RAMW...     4.2  \n",
       "1  AMD Ryzen 3 Quad Core Processor8 GB DDR4 RAMWi...     4.2  \n",
       "2  Intel Core i3 Processor (13th Gen)8 GB DDR4 RA...     4.5  \n",
       "3  Intel Core i5 Processor (13th Gen)16 GB LPDDR4...     4.2  \n",
       "4  Intel Core i5 Processor (12th Gen)8 GB DDR4 RA...     4.2  "
      ]
     },
     "execution_count": 59,
     "metadata": {},
     "output_type": "execute_result"
    }
   ],
   "source": [
    "# Step 7: Preview the cleaned data\n",
    "print(\"\\nCleaned Data:\")\n",
    "df.head()\n"
   ]
  },
  {
   "cell_type": "code",
   "execution_count": 60,
   "id": "66e6658a",
   "metadata": {},
   "outputs": [],
   "source": [
    "# Save the cleaned data to a new CSV file\n",
    "df.to_csv('flipkart_laptop_cleaned.csv', index=False)"
   ]
  },
  {
   "cell_type": "code",
   "execution_count": 61,
   "id": "a8ec0da6",
   "metadata": {},
   "outputs": [
    {
     "data": {
      "text/plain": [
       "'DELL 15 AMD Ryzen 5 Hexa Core 7530U - (16 GB/512 GB SSD/Windows 11 Home) 3535 Thin and Light Laptop'"
      ]
     },
     "execution_count": 61,
     "metadata": {},
     "output_type": "execute_result"
    }
   ],
   "source": [
    "df['Product_name'][0]"
   ]
  },
  {
   "cell_type": "code",
   "execution_count": 62,
   "id": "c9993e76",
   "metadata": {},
   "outputs": [
    {
     "data": {
      "text/plain": [
       "'AMD Ryzen 5 Hexa Core Processor16 GB DDR4 RAMWindows 11 Operating System512 GB SSD39.62 cm (15.6 Inch) DisplayMy Dell (Dell Power Manager,Dell Support Assist)1 Year Onsite Warranty'"
      ]
     },
     "execution_count": 62,
     "metadata": {},
     "output_type": "execute_result"
    }
   ],
   "source": [
    "df['Description'][0]"
   ]
  },
  {
   "cell_type": "code",
   "execution_count": 63,
   "id": "63f9aa86",
   "metadata": {},
   "outputs": [
    {
     "name": "stderr",
     "output_type": "stream",
     "text": [
      "C:\\Users\\Natasha\\AppData\\Local\\Temp\\ipykernel_19696\\1303100827.py:48: FutureWarning: Setting an item of incompatible dtype is deprecated and will raise an error in a future version of pandas. Value 'Unknown' has dtype incompatible with float64, please explicitly cast to a compatible dtype first.\n",
      "  df_cleaned.fillna(\"Unknown\", inplace=True)\n"
     ]
    },
    {
     "data": {
      "text/html": [
       "<div>\n",
       "<style scoped>\n",
       "    .dataframe tbody tr th:only-of-type {\n",
       "        vertical-align: middle;\n",
       "    }\n",
       "\n",
       "    .dataframe tbody tr th {\n",
       "        vertical-align: top;\n",
       "    }\n",
       "\n",
       "    .dataframe thead th {\n",
       "        text-align: right;\n",
       "    }\n",
       "</style>\n",
       "<table border=\"1\" class=\"dataframe\">\n",
       "  <thead>\n",
       "    <tr style=\"text-align: right;\">\n",
       "      <th></th>\n",
       "      <th>Product_name</th>\n",
       "      <th>Prices</th>\n",
       "      <th>Description</th>\n",
       "      <th>Reviews</th>\n",
       "      <th>CPU</th>\n",
       "      <th>RAM</th>\n",
       "      <th>OS</th>\n",
       "      <th>Storage</th>\n",
       "      <th>Display</th>\n",
       "      <th>Warranty</th>\n",
       "    </tr>\n",
       "  </thead>\n",
       "  <tbody>\n",
       "    <tr>\n",
       "      <th>0</th>\n",
       "      <td>DELL 15 AMD Ryzen 5 Hexa Core 7530U - (16 GB/5...</td>\n",
       "      <td>41990.0</td>\n",
       "      <td>AMD Ryzen 5 Hexa Core Processor16 GB DDR4 RAMW...</td>\n",
       "      <td>4.2</td>\n",
       "      <td>AMD Ryzen 5 Hexa Core</td>\n",
       "      <td>16 GB</td>\n",
       "      <td>Windows 11</td>\n",
       "      <td>16 GB DDR4 RAMWindows 11 Operating System512 G...</td>\n",
       "      <td>39.62 cm</td>\n",
       "      <td>1 Year</td>\n",
       "    </tr>\n",
       "    <tr>\n",
       "      <th>1</th>\n",
       "      <td>HP 15 (2024) AMD Ryzen 3 Quad Core 7320U - (8 ...</td>\n",
       "      <td>29990.0</td>\n",
       "      <td>AMD Ryzen 3 Quad Core Processor8 GB DDR4 RAMWi...</td>\n",
       "      <td>4.2</td>\n",
       "      <td>AMD Ryzen 3 Quad Core</td>\n",
       "      <td>8 GB</td>\n",
       "      <td>Windows 11</td>\n",
       "      <td>8 GB DDR4 RAMWindows 11 Operating System512 GB...</td>\n",
       "      <td>39.62 cm</td>\n",
       "      <td>1 Year</td>\n",
       "    </tr>\n",
       "    <tr>\n",
       "      <th>2</th>\n",
       "      <td>ASUS Vivobook 15 Intel Core i3 13th Gen 1315U ...</td>\n",
       "      <td>35990.0</td>\n",
       "      <td>Intel Core i3 Processor (13th Gen)8 GB DDR4 RA...</td>\n",
       "      <td>4.5</td>\n",
       "      <td>Intel Core i3</td>\n",
       "      <td>8 GB</td>\n",
       "      <td>Windows 11</td>\n",
       "      <td>8 GB DDR4 RAMWindows 11 Operating System512 GB...</td>\n",
       "      <td>39.62 cm</td>\n",
       "      <td>1 Year</td>\n",
       "    </tr>\n",
       "    <tr>\n",
       "      <th>3</th>\n",
       "      <td>SAMSUNG Galaxy Book4 Metal Intel Core i5 13th ...</td>\n",
       "      <td>51990.0</td>\n",
       "      <td>Intel Core i5 Processor (13th Gen)16 GB LPDDR4...</td>\n",
       "      <td>4.2</td>\n",
       "      <td>Intel Core i5</td>\n",
       "      <td>16 GB</td>\n",
       "      <td>Windows 11</td>\n",
       "      <td>16 GB LPDDR4X RAMWindows 11 Operating System51...</td>\n",
       "      <td>39.62 cm</td>\n",
       "      <td>1 Year Manufacturer</td>\n",
       "    </tr>\n",
       "    <tr>\n",
       "      <th>4</th>\n",
       "      <td>ASUS Vivobook 15 Intel Core i5 12th Gen 1235U ...</td>\n",
       "      <td>40990.0</td>\n",
       "      <td>Intel Core i5 Processor (12th Gen)8 GB DDR4 RA...</td>\n",
       "      <td>4.2</td>\n",
       "      <td>Intel Core i5</td>\n",
       "      <td>8 GB</td>\n",
       "      <td>Windows 11</td>\n",
       "      <td>8 GB DDR4 RAMWindows 11 Operating System512 GB...</td>\n",
       "      <td>39.62 cm</td>\n",
       "      <td>1 Year</td>\n",
       "    </tr>\n",
       "  </tbody>\n",
       "</table>\n",
       "</div>"
      ],
      "text/plain": [
       "                                        Product_name   Prices  \\\n",
       "0  DELL 15 AMD Ryzen 5 Hexa Core 7530U - (16 GB/5...  41990.0   \n",
       "1  HP 15 (2024) AMD Ryzen 3 Quad Core 7320U - (8 ...  29990.0   \n",
       "2  ASUS Vivobook 15 Intel Core i3 13th Gen 1315U ...  35990.0   \n",
       "3  SAMSUNG Galaxy Book4 Metal Intel Core i5 13th ...  51990.0   \n",
       "4  ASUS Vivobook 15 Intel Core i5 12th Gen 1235U ...  40990.0   \n",
       "\n",
       "                                         Description Reviews  \\\n",
       "0  AMD Ryzen 5 Hexa Core Processor16 GB DDR4 RAMW...     4.2   \n",
       "1  AMD Ryzen 3 Quad Core Processor8 GB DDR4 RAMWi...     4.2   \n",
       "2  Intel Core i3 Processor (13th Gen)8 GB DDR4 RA...     4.5   \n",
       "3  Intel Core i5 Processor (13th Gen)16 GB LPDDR4...     4.2   \n",
       "4  Intel Core i5 Processor (12th Gen)8 GB DDR4 RA...     4.2   \n",
       "\n",
       "                     CPU    RAM          OS  \\\n",
       "0  AMD Ryzen 5 Hexa Core  16 GB  Windows 11   \n",
       "1  AMD Ryzen 3 Quad Core   8 GB  Windows 11   \n",
       "2          Intel Core i3   8 GB  Windows 11   \n",
       "3          Intel Core i5  16 GB  Windows 11   \n",
       "4          Intel Core i5   8 GB  Windows 11   \n",
       "\n",
       "                                             Storage   Display  \\\n",
       "0  16 GB DDR4 RAMWindows 11 Operating System512 G...  39.62 cm   \n",
       "1  8 GB DDR4 RAMWindows 11 Operating System512 GB...  39.62 cm   \n",
       "2  8 GB DDR4 RAMWindows 11 Operating System512 GB...  39.62 cm   \n",
       "3  16 GB LPDDR4X RAMWindows 11 Operating System51...  39.62 cm   \n",
       "4  8 GB DDR4 RAMWindows 11 Operating System512 GB...  39.62 cm   \n",
       "\n",
       "              Warranty  \n",
       "0               1 Year  \n",
       "1               1 Year  \n",
       "2               1 Year  \n",
       "3  1 Year Manufacturer  \n",
       "4               1 Year  "
      ]
     },
     "execution_count": 63,
     "metadata": {},
     "output_type": "execute_result"
    }
   ],
   "source": [
    "import pandas as pd\n",
    "import re\n",
    "\n",
    "# ✅ Step 1: Load dataset\n",
    "df = pd.read_csv('flipkart_laptop_cleaned.csv')\n",
    "\n",
    "# ✅ Step 2: Clean numeric columns (don't lower-case Description!)\n",
    "df['Prices'] = pd.to_numeric(df['Prices'], errors='coerce')\n",
    "df['Description'] = df['Description'].astype(str)  # Keep original casing\n",
    "\n",
    "# ✅ Step 3: Extract structured specs from the Description\n",
    "def extract_and_clean_specs(description):\n",
    "    specs = {}\n",
    "\n",
    "    # CPU (case-insensitive)\n",
    "    cpu_match = re.search(r'^(.*?Processor)', description, re.IGNORECASE)\n",
    "    specs['CPU'] = cpu_match.group(1).replace('Processor', '').strip() if cpu_match else \"Unknown\"\n",
    "\n",
    "    # RAM\n",
    "    ram_match = re.search(r'(\\d+\\s?GB).*?RAM', description, re.IGNORECASE)\n",
    "    specs['RAM'] = ram_match.group(1).strip() if ram_match else \"Unknown\"\n",
    "\n",
    "    # OS\n",
    "    os_match = re.search(r'(Windows \\d+)', description, re.IGNORECASE)\n",
    "    specs['OS'] = os_match.group(1).strip() if os_match else \"Not Specified\"\n",
    "\n",
    "    # Storage\n",
    "    storage_match = re.search(r'(\\d+\\s?GB.*?)SSD', description, re.IGNORECASE)\n",
    "    specs['Storage'] = storage_match.group(1).strip() + \" SSD\" if storage_match else \"Not Specified\"\n",
    "\n",
    "    # Display\n",
    "    display_match = re.search(r'(\\d+(\\.\\d+)?\\s?cm).*?Display', description, re.IGNORECASE)\n",
    "    specs['Display'] = display_match.group(1).strip() if display_match else \"Unknown\"\n",
    "\n",
    "    # Warranty\n",
    "    warranty_match = re.search(r'(\\d+\\s?Year.*?)Warranty', description, re.IGNORECASE)\n",
    "    specs['Warranty'] = warranty_match.group(1).replace('Onsite', '').strip() if warranty_match else \"No Warranty\"\n",
    "\n",
    "    return pd.Series(specs)\n",
    "\n",
    "# ✅ Step 4: Apply spec extraction to all rows\n",
    "df_specs = df['Description'].apply(extract_and_clean_specs)\n",
    "\n",
    "# ✅ Step 5: Combine with original DataFrame\n",
    "df_cleaned = pd.concat([df, df_specs], axis=1)\n",
    "\n",
    "# ✅ Step 6: Fill any missing values\n",
    "df_cleaned.fillna(\"Unknown\", inplace=True)\n",
    "\n",
    "df_cleaned.head()"
   ]
  },
  {
   "cell_type": "code",
   "execution_count": 64,
   "id": "87cef188",
   "metadata": {},
   "outputs": [
    {
     "name": "stdout",
     "output_type": "stream",
     "text": [
      "✅ Cleaned and saved as 'flipkart_laptop_cleaned_structured.csv'\n"
     ]
    }
   ],
   "source": [
    "# ✅ Step 7: Save cleaned and structured CSV\n",
    "df_cleaned.to_csv('flipkart_laptop_cleaned_structured.csv', index=False)\n",
    "print(\"✅ Cleaned and saved as 'flipkart_laptop_cleaned_structured.csv'\")"
   ]
  },
  {
   "cell_type": "code",
   "execution_count": null,
   "id": "cea55460",
   "metadata": {},
   "outputs": [],
   "source": []
  },
  {
   "cell_type": "code",
   "execution_count": null,
   "id": "12a36b3a",
   "metadata": {},
   "outputs": [],
   "source": []
  },
  {
   "cell_type": "code",
   "execution_count": null,
   "id": "433685a0",
   "metadata": {},
   "outputs": [],
   "source": []
  },
  {
   "cell_type": "code",
   "execution_count": null,
   "id": "fd28b7a2",
   "metadata": {},
   "outputs": [],
   "source": []
  },
  {
   "cell_type": "code",
   "execution_count": null,
   "id": "a96d8842",
   "metadata": {},
   "outputs": [],
   "source": []
  },
  {
   "cell_type": "code",
   "execution_count": null,
   "id": "e625eb73",
   "metadata": {},
   "outputs": [],
   "source": []
  },
  {
   "cell_type": "code",
   "execution_count": null,
   "id": "36a33ca9",
   "metadata": {},
   "outputs": [],
   "source": []
  },
  {
   "cell_type": "code",
   "execution_count": null,
   "id": "932e3314",
   "metadata": {},
   "outputs": [],
   "source": []
  }
 ],
 "metadata": {
  "kernelspec": {
   "display_name": "base",
   "language": "python",
   "name": "python3"
  },
  "language_info": {
   "codemirror_mode": {
    "name": "ipython",
    "version": 3
   },
   "file_extension": ".py",
   "mimetype": "text/x-python",
   "name": "python",
   "nbconvert_exporter": "python",
   "pygments_lexer": "ipython3",
   "version": "3.12.7"
  }
 },
 "nbformat": 4,
 "nbformat_minor": 5
}
